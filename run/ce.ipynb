{
 "cells": [
  {
   "cell_type": "code",
   "execution_count": 3,
   "id": "ef6ccf39",
   "metadata": {},
   "outputs": [],
   "source": [
    "import numpy as np\n",
    "import qiskit\n",
    "import sys\n",
    "sys.path.insert(1,'../')\n",
    "\n",
    "import vqa.circuits\n",
    "import vqa.entanglement\n",
    "import vqa.vqent\n",
    "\n",
    "import matplotlib.pyplot as plt\n",
    "import statistics"
   ]
  },
  {
   "cell_type": "code",
   "execution_count": null,
   "id": "07b5c5db",
   "metadata": {},
   "outputs": [],
   "source": [
    "#train CE\n",
    "num_qubits = 4\n",
    "cirs = [vqa.circuits.star_ansatz]\n",
    "coefs = [2] #num_players\n",
    "optimizer = vqa.vqent.adam\n",
    "ofset = 0.53125 #0: cost = ce, 0.4375: GHZ, 0.53125: maxCE\n",
    "num_steps = 100\n",
    "\n",
    "costs = []\n",
    "ces = []\n",
    "\n",
    "for i in range(50): #average  \n",
    "    params = vqa.circuits.create_params(cirs,coefs,num_qubits,['random'])\n",
    "    qc = qiskit.QuantumCircuit(num_qubits, num_qubits)\n",
    "    params, cost, ce = vqa.vqent.training(qc,cirs,coefs,params,optimizer,num_steps,ofset)\n",
    "    \n",
    "    costs.append(cost[-1])\n",
    "    ces.append(ce)\n",
    "    \n",
    "    print(i,cost[-1],ce)\n",
    "    \n",
    "#avg = statistics.mean(costs)\n",
    "#stdev = statistics.stdev(costs)\n",
    "#ceg = statistics.mean(ces)\n",
    "#cestd = statistics.stdev(ces)\n",
    "#print(avg, stdev,ceg,cestd)\n",
    "\n",
    "# plot\n",
    "iterations = list(range(1, num_steps+1))\n",
    "plt.plot(iterations, cost, '-')\n",
    "plt.xlim(0, num_steps)"
   ]
  },
  {
   "cell_type": "code",
   "execution_count": null,
   "id": "c5e85e4f",
   "metadata": {},
   "outputs": [],
   "source": [
    "import numpy as np\n",
    "import matplotlib.pyplot as plt\n",
    "from scipy.stats import norm\n",
    "\n",
    "data0 = [0.0050000000000000044, 0.00019999999999997797, 0.0031999999999999806, 0.0009000000000000119, 0.0021999999999999797, 0.009800000000000031, 0.0047000000000000375, 0.0021999999999999797, 0.0038000000000000256, 0.007000000000000006, 0.0019000000000000128, 0.00039999999999995595, 0.0040999999999999925, 0.00539999999999996, 0.0020000000000000018, 0.0024999999999999467, 0.00029999999999996696, 0.0036000000000000476, 0.0014999999999999458, 0.0020000000000000018, 0.0020000000000000018, 0.0021999999999999797, 0.010199999999999987, 0.0043999999999999595, 0.0020000000000000018, 0.0047000000000000375, 0.0026000000000000467, 0.0040999999999999925, 0.0010999999999999899, 0.0020000000000000018, 0.0020000000000000018, 0.005700000000000038, 0.0016000000000000458, 0.00039999999999995595, 0.0023999999999999577, 0.0032999999999999696, 0.0041999999999999815, 0.0030000000000000027, 0.0018000000000000238, 0.0010000000000000009, 9.999999999998899e-05, 0.0020000000000000018, 0.0043999999999999595, 0.0008000000000000229, 0.0021999999999999797, 0.0026000000000000467, 0.0020999999999999908, 0.0009000000000000119, 0.005099999999999993, 0.0006000000000000449]\n",
    "datastar = [0.45589999999999997, 0.44989999999999997, 0.42989999999999995, 0.43989999999999996, 0.4395, 0.4334, 0.43500000000000005, 0.4538, 0.4303, 0.42910000000000004, 0.43879999999999997, 0.4282, 0.4113, 0.43710000000000004, 0.4384, 0.43899999999999995, 0.4354, 0.4365, 0.4324, 0.4286, 0.4374, 0.39270000000000005, 0.4292, 0.44430000000000003, 0.4366, 0.4384, 0.43810000000000004, 0.41659999999999997, 0.46020000000000005, 0.43400000000000005, 0.4223, 0.43810000000000004, 0.41979999999999995, 0.4283, 0.44730000000000003, 0.4285, 0.4315, 0.42200000000000004, 0.4383, 0.4344, 0.44489999999999996, 0.4145, 0.4484, 0.43320000000000003, 0.43879999999999997, 0.44789999999999996, 0.4282, 0.42610000000000003, 0.42310000000000003, 0.44320000000000004]\n",
    "datamax = [0.44699999999999995, 0.47940000000000005, 0.4879, 0.4236, 0.4317, 0.4869, 0.47919999999999996, 0.4548, 0.4393, 0.43820000000000003, 0.47050000000000003, 0.4861, 0.45940000000000003, 0.4809, 0.4356, 0.4809, 0.4515, 0.4655, 0.4374, 0.45830000000000004, 0.4526, 0.492, 0.4589, 0.4669, 0.48429999999999995, 0.4686, 0.4565, 0.46319999999999995, 0.489, 0.41269999999999996, 0.48340000000000005, 0.45840000000000003, 0.4375, 0.4675, 0.4788, 0.48240000000000005, 0.47809999999999997, 0.45920000000000005, 0.47319999999999995, 0.4363, 0.48650000000000004, 0.46950000000000003, 0.4647, 0.44430000000000003, 0.4567, 0.4871, 0.45999999999999996, 0.48929999999999996, 0.48319999999999996, 0.46909999999999996]\n",
    "data1 = [0.4576, 0.4575, 0.4498, 0.3546, 0.47309999999999997, 0.46730000000000005, 0.4635, 0.4716, 0.4014, 0.46120000000000005, 0.4397, 0.45099999999999996, 0.47019999999999995, 0.49739999999999995, 0.45709999999999995, 0.4871, 0.4806, 0.46120000000000005, 0.4555, 0.4797, 0.4524, 0.4699, 0.37539999999999996, 0.4627, 0.484, 0.4364, 0.47, 0.4404, 0.4888, 0.43520000000000003, 0.4899, 0.44789999999999996, 0.4537, 0.49839999999999995, 0.4414, 0.4285, 0.43710000000000004, 0.46719999999999995, 0.4589, 0.4878, 0.46020000000000005, 0.4395, 0.44310000000000005, 0.4746, 0.4627, 0.44799999999999995, 0.45589999999999997, 0.43220000000000003, 0.45320000000000005, 0.4747]\n",
    "\n",
    "print(ces)\n",
    "\n",
    "# Calculate the average value\n",
    "avg0 = np.mean(data0)\n",
    "avgstar = np.mean(datastar)\n",
    "avgsmax = np.mean(datamax)\n",
    "avg1 = np.mean(data1)\n",
    "print(avg0,avgstar,avgsmax,avg1)\n",
    "\n",
    "# Plot the histogram\n",
    "#plt.hist(data0, bins=20, density=False)\n",
    "#plt.hist(datastar, bins=20, density=False)\n",
    "#plt.hist(datamax, bins=20, density=False)\n",
    "#plt.hist(data1, bins=20, density=False)\n",
    "\n",
    "(mu0, sigma0) = norm.fit(data0)\n",
    "x0 = np.linspace(min(data0), max(data0), 100)\n",
    "(mustar, sigmastar) = norm.fit(datastar)\n",
    "xstar = np.linspace(min(datastar), max(datamax), 100)\n",
    "(mumax, sigmamax) = norm.fit(datamax)\n",
    "xmax = np.linspace(min(datastar), max(datamax), 100)\n",
    "(mu1, sigma1) = norm.fit(data1)\n",
    "x1 = np.linspace(min(data1), max(data1), 100)\n",
    "\n",
    "\n",
    "#values0, bins0, _ = plt.hist(data0, bins=12)\n",
    "#area0 = sum(np.diff(bins0) * values0)\n",
    "\n",
    "valuestar, binstar, _ = plt.hist(datastar, bins=5,density=False)\n",
    "areastar = sum(np.diff(binstar) * valuestar)\n",
    "\n",
    "valuesmax, binsmax, _ = plt.hist(datamax, bins=5,density=False)\n",
    "areamax = sum(np.diff(binsmax) * valuesmax)\n",
    "\n",
    "#values1, bins1, _ = plt.hist(data1, bins=12)\n",
    "#area1 = sum(np.diff(bins1) * values1)\n",
    "\n",
    "#plt.plot(x0, norm.pdf(x0, mu0, sigma0) * area0, 'b')\n",
    "plt.plot(xstar, norm.pdf(xstar, mustar, sigmastar) * areastar, 'r')\n",
    "plt.plot(xmax, norm.pdf(xmax, mumax, sigmamax) * areamax, 'g')\n",
    "#plt.plot(x1, norm.pdf(x1, mu1, sigma1) * area1, 'y')\n",
    "\n",
    "plt.show()"
   ]
  },
  {
   "cell_type": "code",
   "execution_count": null,
   "id": "97cc1ba8",
   "metadata": {},
   "outputs": [],
   "source": [
    "# create ghz_state\n",
    "num_qubits = 3\n",
    "qc = qiskit.QuantumCircuit(num_qubits, num_qubits)\n",
    "qc = vqa.circuits.create_ghz_state(qc)\n",
    "qc.draw('mpl')"
   ]
  },
  {
   "cell_type": "code",
   "execution_count": null,
   "id": "58f66c51",
   "metadata": {
    "scrolled": true
   },
   "outputs": [],
   "source": [
    "# calcualte concentratable_entanglement\n",
    "ce = vqa.entanglement.concentratable_entanglement(qc)\n",
    "print(ce)\n",
    "print(\"true CE = \", 0.5 - 1/(2**num_qubits))"
   ]
  },
  {
   "cell_type": "code",
   "execution_count": null,
   "id": "13d6cc9b",
   "metadata": {},
   "outputs": [],
   "source": []
  },
  {
   "cell_type": "code",
   "execution_count": null,
   "id": "49e544fe",
   "metadata": {},
   "outputs": [],
   "source": []
  }
 ],
 "metadata": {
  "kernelspec": {
   "display_name": "Python 3 (ipykernel)",
   "language": "python",
   "name": "python3"
  },
  "language_info": {
   "codemirror_mode": {
    "name": "ipython",
    "version": 3
   },
   "file_extension": ".py",
   "mimetype": "text/x-python",
   "name": "python",
   "nbconvert_exporter": "python",
   "pygments_lexer": "ipython3",
   "version": "3.8.13"
  }
 },
 "nbformat": 4,
 "nbformat_minor": 5
}
